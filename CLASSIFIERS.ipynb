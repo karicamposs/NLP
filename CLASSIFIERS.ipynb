{
  "cells": [
    {
      "cell_type": "markdown",
      "metadata": {
        "id": "ApF3hBdaavwX"
      },
      "source": [
        "## Preprocessing"
      ]
    },
    {
      "cell_type": "code",
      "execution_count": 1,
      "metadata": {
        "colab": {
          "base_uri": "https://localhost:8080/"
        },
        "id": "n9-wRHB2oHjh",
        "outputId": "5050c84c-a3ea-4d3d-920e-d5403fea439c"
      },
      "outputs": [
        {
          "name": "stderr",
          "output_type": "stream",
          "text": [
            "[nltk_data] Downloading package punkt_tab to\n",
            "[nltk_data]     /Users/karinacampos/nltk_data...\n",
            "[nltk_data]   Package punkt_tab is already up-to-date!\n",
            "[nltk_data] Downloading package stopwords to\n",
            "[nltk_data]     /Users/karinacampos/nltk_data...\n",
            "[nltk_data]   Package stopwords is already up-to-date!\n"
          ]
        },
        {
          "data": {
            "text/plain": [
              "True"
            ]
          },
          "execution_count": 1,
          "metadata": {},
          "output_type": "execute_result"
        }
      ],
      "source": [
        "import nltk\n",
        "nltk.download('punkt_tab')\n",
        "nltk.download('stopwords')"
      ]
    },
    {
      "cell_type": "code",
      "execution_count": 2,
      "metadata": {},
      "outputs": [
        {
          "name": "stdout",
          "output_type": "stream",
          "text": [
            "Requirement already satisfied: emoji in /Library/Frameworks/Python.framework/Versions/3.12/lib/python3.12/site-packages (2.14.0)\n",
            "\n",
            "\u001b[1m[\u001b[0m\u001b[34;49mnotice\u001b[0m\u001b[1;39;49m]\u001b[0m\u001b[39;49m A new release of pip is available: \u001b[0m\u001b[31;49m24.2\u001b[0m\u001b[39;49m -> \u001b[0m\u001b[32;49m24.3.1\u001b[0m\n",
            "\u001b[1m[\u001b[0m\u001b[34;49mnotice\u001b[0m\u001b[1;39;49m]\u001b[0m\u001b[39;49m To update, run: \u001b[0m\u001b[32;49mpip install --upgrade pip\u001b[0m\n"
          ]
        }
      ],
      "source": [
        "!pip3 install emoji"
      ]
    },
    {
      "cell_type": "code",
      "execution_count": 3,
      "metadata": {
        "id": "qp5sEXvpazmB"
      },
      "outputs": [],
      "source": [
        "import re\n",
        "import emoji\n",
        "from nltk.tokenize import word_tokenize\n",
        "from nltk.corpus import stopwords\n",
        "from nltk.stem import PorterStemmer\n",
        "from unicodedata import normalize\n",
        "import pandas as pd"
      ]
    },
    {
      "cell_type": "code",
      "execution_count": 4,
      "metadata": {
        "colab": {
          "base_uri": "https://localhost:8080/",
          "height": 206
        },
        "id": "sZoYUMv6cvYc",
        "outputId": "c41bab82-95d4-426d-cae8-989309f3af93"
      },
      "outputs": [
        {
          "data": {
            "text/html": [
              "<div>\n",
              "<style scoped>\n",
              "    .dataframe tbody tr th:only-of-type {\n",
              "        vertical-align: middle;\n",
              "    }\n",
              "\n",
              "    .dataframe tbody tr th {\n",
              "        vertical-align: top;\n",
              "    }\n",
              "\n",
              "    .dataframe thead th {\n",
              "        text-align: right;\n",
              "    }\n",
              "</style>\n",
              "<table border=\"1\" class=\"dataframe\">\n",
              "  <thead>\n",
              "    <tr style=\"text-align: right;\">\n",
              "      <th></th>\n",
              "      <th>Polarity</th>\n",
              "      <th>Title</th>\n",
              "      <th>Text</th>\n",
              "    </tr>\n",
              "  </thead>\n",
              "  <tbody>\n",
              "    <tr>\n",
              "      <th>0</th>\n",
              "      <td>2</td>\n",
              "      <td>One of the best game music soundtracks - for a...</td>\n",
              "      <td>Despite the fact that I have only played a sma...</td>\n",
              "    </tr>\n",
              "    <tr>\n",
              "      <th>1</th>\n",
              "      <td>1</td>\n",
              "      <td>Batteries died within a year ...</td>\n",
              "      <td>I bought this charger in Jul 2003 and it worke...</td>\n",
              "    </tr>\n",
              "    <tr>\n",
              "      <th>2</th>\n",
              "      <td>2</td>\n",
              "      <td>works fine, but Maha Energy is better</td>\n",
              "      <td>Check out Maha Energy's website. Their Powerex...</td>\n",
              "    </tr>\n",
              "    <tr>\n",
              "      <th>3</th>\n",
              "      <td>2</td>\n",
              "      <td>Great for the non-audiophile</td>\n",
              "      <td>Reviewed quite a bit of the combo players and ...</td>\n",
              "    </tr>\n",
              "    <tr>\n",
              "      <th>4</th>\n",
              "      <td>1</td>\n",
              "      <td>DVD Player crapped out after one year</td>\n",
              "      <td>I also began having the incorrect disc problem...</td>\n",
              "    </tr>\n",
              "  </tbody>\n",
              "</table>\n",
              "</div>"
            ],
            "text/plain": [
              "   Polarity                                              Title  \\\n",
              "0         2  One of the best game music soundtracks - for a...   \n",
              "1         1                   Batteries died within a year ...   \n",
              "2         2              works fine, but Maha Energy is better   \n",
              "3         2                       Great for the non-audiophile   \n",
              "4         1              DVD Player crapped out after one year   \n",
              "\n",
              "                                                Text  \n",
              "0  Despite the fact that I have only played a sma...  \n",
              "1  I bought this charger in Jul 2003 and it worke...  \n",
              "2  Check out Maha Energy's website. Their Powerex...  \n",
              "3  Reviewed quite a bit of the combo players and ...  \n",
              "4  I also began having the incorrect disc problem...  "
            ]
          },
          "execution_count": 4,
          "metadata": {},
          "output_type": "execute_result"
        }
      ],
      "source": [
        "test_dataset = pd.read_csv('test.csv')\n",
        "test_dataset.columns = ['Polarity', 'Title', 'Text']\n",
        "test_dataset.head()"
      ]
    },
    {
      "cell_type": "code",
      "execution_count": 5,
      "metadata": {
        "colab": {
          "base_uri": "https://localhost:8080/",
          "height": 206
        },
        "id": "hurjbDBLYede",
        "outputId": "c2041892-bb89-4fe0-af58-1786db666880"
      },
      "outputs": [
        {
          "data": {
            "text/html": [
              "<div>\n",
              "<style scoped>\n",
              "    .dataframe tbody tr th:only-of-type {\n",
              "        vertical-align: middle;\n",
              "    }\n",
              "\n",
              "    .dataframe tbody tr th {\n",
              "        vertical-align: top;\n",
              "    }\n",
              "\n",
              "    .dataframe thead th {\n",
              "        text-align: right;\n",
              "    }\n",
              "</style>\n",
              "<table border=\"1\" class=\"dataframe\">\n",
              "  <thead>\n",
              "    <tr style=\"text-align: right;\">\n",
              "      <th></th>\n",
              "      <th>Polarity</th>\n",
              "      <th>Title</th>\n",
              "      <th>Text</th>\n",
              "    </tr>\n",
              "  </thead>\n",
              "  <tbody>\n",
              "    <tr>\n",
              "      <th>0</th>\n",
              "      <td>2</td>\n",
              "      <td>The best soundtrack ever to anything.</td>\n",
              "      <td>I'm reading a lot of reviews saying that this ...</td>\n",
              "    </tr>\n",
              "    <tr>\n",
              "      <th>1</th>\n",
              "      <td>2</td>\n",
              "      <td>Amazing!</td>\n",
              "      <td>This soundtrack is my favorite music of all ti...</td>\n",
              "    </tr>\n",
              "    <tr>\n",
              "      <th>2</th>\n",
              "      <td>2</td>\n",
              "      <td>Excellent Soundtrack</td>\n",
              "      <td>I truly like this soundtrack and I enjoy video...</td>\n",
              "    </tr>\n",
              "    <tr>\n",
              "      <th>3</th>\n",
              "      <td>2</td>\n",
              "      <td>Remember, Pull Your Jaw Off The Floor After He...</td>\n",
              "      <td>If you've played the game, you know how divine...</td>\n",
              "    </tr>\n",
              "    <tr>\n",
              "      <th>4</th>\n",
              "      <td>2</td>\n",
              "      <td>an absolute masterpiece</td>\n",
              "      <td>I am quite sure any of you actually taking the...</td>\n",
              "    </tr>\n",
              "  </tbody>\n",
              "</table>\n",
              "</div>"
            ],
            "text/plain": [
              "   Polarity                                              Title  \\\n",
              "0         2              The best soundtrack ever to anything.   \n",
              "1         2                                           Amazing!   \n",
              "2         2                               Excellent Soundtrack   \n",
              "3         2  Remember, Pull Your Jaw Off The Floor After He...   \n",
              "4         2                            an absolute masterpiece   \n",
              "\n",
              "                                                Text  \n",
              "0  I'm reading a lot of reviews saying that this ...  \n",
              "1  This soundtrack is my favorite music of all ti...  \n",
              "2  I truly like this soundtrack and I enjoy video...  \n",
              "3  If you've played the game, you know how divine...  \n",
              "4  I am quite sure any of you actually taking the...  "
            ]
          },
          "execution_count": 5,
          "metadata": {},
          "output_type": "execute_result"
        }
      ],
      "source": [
        "train_dataset = pd.read_csv('train.csv')\n",
        "train_dataset.columns = ['Polarity', 'Title', 'Text']\n",
        "train_dataset.head()"
      ]
    },
    {
      "cell_type": "code",
      "execution_count": 6,
      "metadata": {
        "id": "cCXTtrtHnYey"
      },
      "outputs": [],
      "source": [
        "def preprocess_and_clean_dataset(df):\n",
        "\n",
        "    def preprocess_text(text):\n",
        "        text = re.sub(r'http\\S+|www\\S+|@\\w+|#', '', text)\n",
        "        text = normalize('NFKD', text).encode('ascii', 'ignore').decode('utf-8', 'ignore')\n",
        "        text = text.lower()\n",
        "        text = emoji.replace_emoji(text, replace='')\n",
        "        text = re.sub(r'[^a-z\\s]', '', text)\n",
        "\n",
        "        tokens = word_tokenize(text)\n",
        "\n",
        "        stop_words = set(stopwords.words('english'))\n",
        "        tokens = [word for word in tokens if word not in stop_words]\n",
        "\n",
        "        stemmer = PorterStemmer()\n",
        "        tokens = [stemmer.stem(word) for word in tokens]\n",
        "\n",
        "        return \" \".join(tokens)\n",
        "\n",
        "    df['Review'] = df['Title'].fillna('') + \" \" + df['Text'].fillna('')\n",
        "\n",
        "    df['Review'] = df['Review'].apply(preprocess_text)\n",
        "\n",
        "\n",
        "    df = df.drop_duplicates(subset='Review')\n",
        "\n",
        "    df = df[['Polarity', 'Review']]\n",
        "    return df"
      ]
    },
    {
      "cell_type": "code",
      "execution_count": 7,
      "metadata": {
        "id": "eMAo2Ur_ogF3"
      },
      "outputs": [],
      "source": [
        "test_dataset = preprocess_and_clean_dataset(test_dataset)"
      ]
    },
    {
      "cell_type": "code",
      "execution_count": 8,
      "metadata": {
        "id": "Nq_oJJSFngf0"
      },
      "outputs": [],
      "source": [
        "train_dataset = preprocess_and_clean_dataset(train_dataset)"
      ]
    },
    {
      "cell_type": "markdown",
      "metadata": {},
      "source": [
        "## classificator using TFIDF vectorization and Logistic Regression"
      ]
    },
    {
      "cell_type": "code",
      "execution_count": 9,
      "metadata": {},
      "outputs": [],
      "source": [
        "from sklearn.feature_extraction.text import TfidfVectorizer\n",
        "from sklearn.linear_model import LogisticRegression\n",
        "from sklearn.pipeline import Pipeline\n",
        "from sklearn.metrics import classification_report\n",
        "from sklearn.model_selection import cross_val_score, KFold\n",
        "import pickle"
      ]
    },
    {
      "cell_type": "code",
      "execution_count": 10,
      "metadata": {},
      "outputs": [],
      "source": [
        "X_train = train_dataset[\"Review\"]\n",
        "y_train = train_dataset[\"Polarity\"]\n",
        "X_test = test_dataset[\"Review\"]\n",
        "y_test = test_dataset[\"Polarity\"]"
      ]
    },
    {
      "cell_type": "code",
      "execution_count": 11,
      "metadata": {},
      "outputs": [],
      "source": [
        "class TfidfLogisticRegression:\n",
        "    def __init__(self, tfidf_params=None, log_reg_params=None):\n",
        "        if tfidf_params is None:\n",
        "            tfidf_params = {\n",
        "                \"min_df\": 0.01,\n",
        "                \"ngram_range\": (1, 2),\n",
        "                \"max_features\": 10000,\n",
        "            }\n",
        "        \n",
        "        if log_reg_params is None:\n",
        "            log_reg_params = {\n",
        "                \"C\": 1,\n",
        "                \"random_state\": 42,\n",
        "                \"solver\": \"saga\",\n",
        "                \"max_iter\": 1000,\n",
        "                \"class_weight\": \"balanced\",\n",
        "            }\n",
        "\n",
        "        self.pipeline = Pipeline([\n",
        "            (\"vectorizer\", TfidfVectorizer(**tfidf_params)),\n",
        "            (\"classifier\", LogisticRegression(**log_reg_params)),\n",
        "        ])\n",
        "\n",
        "    def train(self, X_train, y_train):\n",
        "        \"\"\"Entrena el modelo en el conjunto de entrenamiento.\"\"\"\n",
        "        self.pipeline.fit(X_train, y_train)\n",
        "\n",
        "    def evaluate(self, X_test, y_test):\n",
        "        \"\"\"Evalúa el modelo en el conjunto de prueba y muestra un reporte de clasificación.\"\"\"\n",
        "        y_pred = self.pipeline.predict(X_test)\n",
        "        report = classification_report(y_test, y_pred, output_dict=True)\n",
        "        print(\"Classification Report:\")\n",
        "        print(classification_report(y_test, y_pred))\n",
        "        return report\n",
        "\n",
        "    def predict(self, X):\n",
        "        \"\"\"Realiza predicciones en nuevos datos.\"\"\"\n",
        "        return self.pipeline.predict(X)\n",
        "\n",
        "    def cross_validate(self, X, y, cv=5):\n",
        "        \"\"\"Realiza validación cruzada usando K-Folds.\"\"\"\n",
        "        kf = KFold(n_splits=cv, shuffle=True, random_state=42)\n",
        "        scores = cross_val_score(self.pipeline, X, y, cv=kf, scoring=\"f1_macro\")\n",
        "        print(f\"F1 Macro-averaged scores across folds: {scores}\")\n",
        "        print(f\"Mean F1 Macro-averaged score: {scores.mean()}\")\n",
        "        return scores\n",
        "\n",
        "    def save_model(self, file_name):\n",
        "        \"\"\"Guarda el modelo entrenado en un archivo.\"\"\"\n",
        "        with open(file_name, \"wb\") as file:\n",
        "            pickle.dump(self.pipeline, file)\n",
        "        print(f\"Model successfully saved in {file_name}.\")\n"
      ]
    },
    {
      "cell_type": "code",
      "execution_count": null,
      "metadata": {},
      "outputs": [],
      "source": [
        "model = TfidfLogisticRegression()\n",
        "\n",
        "model.train(X_train, y_train)\n"
      ]
    },
    {
      "cell_type": "code",
      "execution_count": null,
      "metadata": {},
      "outputs": [
        {
          "name": "stdout",
          "output_type": "stream",
          "text": [
            "Classification Report:\n",
            "              precision    recall  f1-score   support\n",
            "\n",
            "           1       0.85      0.85      0.85    199984\n",
            "           2       0.85      0.85      0.85    199996\n",
            "\n",
            "    accuracy                           0.85    399980\n",
            "   macro avg       0.85      0.85      0.85    399980\n",
            "weighted avg       0.85      0.85      0.85    399980\n",
            "\n"
          ]
        },
        {
          "data": {
            "text/plain": [
              "{'1': {'precision': 0.8513296053425594,\n",
              "  'recall': 0.8465277222177774,\n",
              "  'f1-score': 0.8489218734329556,\n",
              "  'support': 199984.0},\n",
              " '2': {'precision': 0.847397625345558,\n",
              "  'recall': 0.8521770435408709,\n",
              "  'f1-score': 0.849780614280016,\n",
              "  'support': 199996.0},\n",
              " 'accuracy': 0.8493524676233811,\n",
              " 'macro avg': {'precision': 0.8493636153440587,\n",
              "  'recall': 0.8493523828793241,\n",
              "  'f1-score': 0.8493512438564857,\n",
              "  'support': 399980.0},\n",
              " 'weighted avg': {'precision': 0.8493635563614096,\n",
              "  'recall': 0.8493524676233811,\n",
              "  'f1-score': 0.8493512567382426,\n",
              "  'support': 399980.0}}"
            ]
          },
          "execution_count": 21,
          "metadata": {},
          "output_type": "execute_result"
        }
      ],
      "source": [
        "model.evaluate(X_test, y_test)"
      ]
    },
    {
      "cell_type": "code",
      "execution_count": 22,
      "metadata": {},
      "outputs": [
        {
          "name": "stdout",
          "output_type": "stream",
          "text": [
            "F1 Macro-averaged scores across folds: [0.84922116 0.84948903 0.84942077 0.84933732 0.84933358]\n",
            "Mean F1 Macro-averaged score: 0.8493603725321665\n"
          ]
        },
        {
          "data": {
            "text/plain": [
              "array([0.84922116, 0.84948903, 0.84942077, 0.84933732, 0.84933358])"
            ]
          },
          "execution_count": 22,
          "metadata": {},
          "output_type": "execute_result"
        }
      ],
      "source": [
        "model.cross_validate(X_train, y_train)"
      ]
    },
    {
      "cell_type": "markdown",
      "metadata": {},
      "source": [
        "## Create a Neural Network model class to generate the keras model needed for this task."
      ]
    },
    {
      "cell_type": "code",
      "execution_count": 15,
      "metadata": {},
      "outputs": [],
      "source": [
        "import numpy as np\n",
        "from sklearn.model_selection import KFold\n",
        "from sklearn.metrics import classification_report, accuracy_score\n",
        "from tensorflow.keras.models import Sequential\n",
        "from tensorflow.keras.layers import Dense, Dropout, Embedding, GlobalAveragePooling1D\n",
        "from tensorflow.keras.preprocessing.text import Tokenizer\n",
        "from tensorflow.keras.preprocessing.sequence import pad_sequences\n",
        "from tensorflow.keras.utils import to_categorical"
      ]
    },
    {
      "cell_type": "code",
      "execution_count": 19,
      "metadata": {},
      "outputs": [],
      "source": [
        "class NN:\n",
        "    def __init__(self, max_words=20000, max_len=100, embedding_dim=128):\n",
        "        self.max_words = max_words  # Vocabulary size\n",
        "        self.max_len = max_len  # Maximum sequence length\n",
        "        self.embedding_dim = embedding_dim  # Embedding dimension\n",
        "        self.tokenizer = Tokenizer(num_words=self.max_words)  # Tokenizer for text preprocessing\n",
        "        self.model = None  # Placeholder for the Keras model\n",
        "\n",
        "    def preprocess_data(self, X, y):\n",
        "        # Tokenize and convert text to sequences\n",
        "        self.tokenizer.fit_on_texts(X)\n",
        "        sequences = self.tokenizer.texts_to_sequences(X)\n",
        "        X_padded = pad_sequences(sequences, maxlen=self.max_len, padding='post')\n",
        "        y_encoded = np.array(y) - 1  # Convert classes (1, 2) to (0, 1) for training\n",
        "        return X_padded, y_encoded\n",
        "\n",
        "    def build_model(self):\n",
        "        # Define the model architecture\n",
        "        model = Sequential([\n",
        "            Embedding(self.max_words, self.embedding_dim, input_length=self.max_len),\n",
        "            GlobalAveragePooling1D(),\n",
        "            Dense(128, activation='relu'),\n",
        "            Dropout(0.5),\n",
        "            Dense(1, activation='sigmoid')  # Sigmoid for binary classification\n",
        "        ])\n",
        "        model.compile(optimizer='adam', loss='binary_crossentropy', metrics=['accuracy'])\n",
        "        self.model = model\n",
        "\n",
        "    def train_with_kfold(self, X, y, k=5, epochs=5, batch_size=32):\n",
        "        # Perform K-Fold Cross-Validation\n",
        "        kf = KFold(n_splits=k, shuffle=True, random_state=42)\n",
        "        fold_results = []\n",
        "\n",
        "        for fold, (train_index, val_index) in enumerate(kf.split(X)):\n",
        "            print(f\"Training on fold {fold + 1}/{k}\")\n",
        "            # Extract train and validation sets\n",
        "            X_train, X_val = X[train_index], X[val_index]\n",
        "            y_train, y_val = y[train_index], y[val_index]\n",
        "\n",
        "            # Build and compile the model for each fold\n",
        "            self.build_model()\n",
        "            \n",
        "            # Ensure labels have the correct shape for binary_crossentropy\n",
        "            y_train = np.array(y_train).reshape(-1, 1)\n",
        "            y_val = np.array(y_val).reshape(-1, 1)\n",
        "\n",
        "            # Train the model\n",
        "            self.model.fit(X_train, y_train, epochs=epochs, batch_size=batch_size, verbose=1)\n",
        "\n",
        "            # Predict on validation data\n",
        "            y_val_pred = (self.model.predict(X_val) > 0.5).astype(\"int32\")\n",
        "            acc = accuracy_score(y_val, y_val_pred)\n",
        "            fold_results.append(acc)\n",
        "            print(f\"Fold {fold + 1} Accuracy: {acc:.4f}\")\n",
        "\n",
        "        print(f\"\\nAverage Accuracy across {k} folds: {np.mean(fold_results):.4f}\")\n",
        "\n",
        "    def evaluate(self, X_test, y_test):\n",
        "        # Evaluate the model on the test set\n",
        "        y_pred = (self.model.predict(X_test) > 0.5).astype(\"int32\")\n",
        "        report = classification_report(y_test, y_pred, target_names=[\"Negative\", \"Positive\"])\n",
        "        print(\"\\nClassification Report:\\n\", report)\n"
      ]
    },
    {
      "cell_type": "code",
      "execution_count": 20,
      "metadata": {},
      "outputs": [],
      "source": [
        "nn_model = NN()\n",
        "X_train, y_train = nn_model.preprocess_data(train_dataset['Review'], train_dataset['Polarity'])\n",
        "X_test, y_test = nn_model.preprocess_data(test_dataset['Review'], test_dataset['Polarity'])\n"
      ]
    },
    {
      "cell_type": "code",
      "execution_count": 23,
      "metadata": {},
      "outputs": [
        {
          "name": "stdout",
          "output_type": "stream",
          "text": [
            "Training on fold 1/2\n",
            "Epoch 1/5\n",
            "\u001b[1m56225/56225\u001b[0m \u001b[32m━━━━━━━━━━━━━━━━━━━━\u001b[0m\u001b[37m\u001b[0m \u001b[1m575s\u001b[0m 10ms/step - accuracy: 0.8633 - loss: 0.3147\n",
            "Epoch 2/5\n",
            "\u001b[1m56225/56225\u001b[0m \u001b[32m━━━━━━━━━━━━━━━━━━━━\u001b[0m\u001b[37m\u001b[0m \u001b[1m840s\u001b[0m 15ms/step - accuracy: 0.8909 - loss: 0.2650\n",
            "Epoch 3/5\n",
            "\u001b[1m56225/56225\u001b[0m \u001b[32m━━━━━━━━━━━━━━━━━━━━\u001b[0m\u001b[37m\u001b[0m \u001b[1m668s\u001b[0m 12ms/step - accuracy: 0.8964 - loss: 0.2547\n",
            "Epoch 4/5\n",
            "\u001b[1m56225/56225\u001b[0m \u001b[32m━━━━━━━━━━━━━━━━━━━━\u001b[0m\u001b[37m\u001b[0m \u001b[1m1064s\u001b[0m 19ms/step - accuracy: 0.8994 - loss: 0.2489\n",
            "Epoch 5/5\n",
            "\u001b[1m56225/56225\u001b[0m \u001b[32m━━━━━━━━━━━━━━━━━━━━\u001b[0m\u001b[37m\u001b[0m \u001b[1m635s\u001b[0m 11ms/step - accuracy: 0.9017 - loss: 0.2438\n",
            "\u001b[1m56225/56225\u001b[0m \u001b[32m━━━━━━━━━━━━━━━━━━━━\u001b[0m\u001b[37m\u001b[0m \u001b[1m23s\u001b[0m 403us/step\n",
            "Fold 1 Accuracy: 0.8963\n",
            "Training on fold 2/2\n"
          ]
        },
        {
          "name": "stderr",
          "output_type": "stream",
          "text": [
            "/Library/Frameworks/Python.framework/Versions/3.12/lib/python3.12/site-packages/keras/src/layers/core/embedding.py:90: UserWarning: Argument `input_length` is deprecated. Just remove it.\n",
            "  warnings.warn(\n"
          ]
        },
        {
          "name": "stdout",
          "output_type": "stream",
          "text": [
            "Epoch 1/5\n",
            "\u001b[1m56225/56225\u001b[0m \u001b[32m━━━━━━━━━━━━━━━━━━━━\u001b[0m\u001b[37m\u001b[0m \u001b[1m742s\u001b[0m 13ms/step - accuracy: 0.8640 - loss: 0.3129\n",
            "Epoch 2/5\n",
            "\u001b[1m56225/56225\u001b[0m \u001b[32m━━━━━━━━━━━━━━━━━━━━\u001b[0m\u001b[37m\u001b[0m \u001b[1m1295s\u001b[0m 23ms/step - accuracy: 0.8911 - loss: 0.2645\n",
            "Epoch 3/5\n",
            "\u001b[1m56225/56225\u001b[0m \u001b[32m━━━━━━━━━━━━━━━━━━━━\u001b[0m\u001b[37m\u001b[0m \u001b[1m452s\u001b[0m 8ms/step - accuracy: 0.8962 - loss: 0.2552\n",
            "Epoch 4/5\n",
            "\u001b[1m56225/56225\u001b[0m \u001b[32m━━━━━━━━━━━━━━━━━━━━\u001b[0m\u001b[37m\u001b[0m \u001b[1m423s\u001b[0m 8ms/step - accuracy: 0.8994 - loss: 0.2486\n",
            "Epoch 5/5\n",
            "\u001b[1m56225/56225\u001b[0m \u001b[32m━━━━━━━━━━━━━━━━━━━━\u001b[0m\u001b[37m\u001b[0m \u001b[1m438s\u001b[0m 8ms/step - accuracy: 0.9021 - loss: 0.2430\n",
            "\u001b[1m56225/56225\u001b[0m \u001b[32m━━━━━━━━━━━━━━━━━━━━\u001b[0m\u001b[37m\u001b[0m \u001b[1m24s\u001b[0m 422us/step\n",
            "Fold 2 Accuracy: 0.8988\n",
            "\n",
            "Average Accuracy across 2 folds: 0.8975\n"
          ]
        }
      ],
      "source": [
        "nn_model.train_with_kfold(X_train, y_train, k=2, epochs=5, batch_size=32)\n"
      ]
    },
    {
      "cell_type": "code",
      "execution_count": 25,
      "metadata": {},
      "outputs": [
        {
          "name": "stdout",
          "output_type": "stream",
          "text": [
            "\u001b[1m12500/12500\u001b[0m \u001b[32m━━━━━━━━━━━━━━━━━━━━\u001b[0m\u001b[37m\u001b[0m \u001b[1m5s\u001b[0m 431us/step\n",
            "\n",
            "Classification Report:\n",
            "               precision    recall  f1-score   support\n",
            "\n",
            "    Negative       0.78      0.77      0.77    199984\n",
            "    Positive       0.77      0.78      0.77    199996\n",
            "\n",
            "    accuracy                           0.77    399980\n",
            "   macro avg       0.77      0.77      0.77    399980\n",
            "weighted avg       0.77      0.77      0.77    399980\n",
            "\n"
          ]
        }
      ],
      "source": [
        "nn_model.evaluate(X_test, y_test)\n"
      ]
    }
  ],
  "metadata": {
    "colab": {
      "provenance": []
    },
    "kernelspec": {
      "display_name": "Python 3",
      "name": "python3"
    },
    "language_info": {
      "codemirror_mode": {
        "name": "ipython",
        "version": 3
      },
      "file_extension": ".py",
      "mimetype": "text/x-python",
      "name": "python",
      "nbconvert_exporter": "python",
      "pygments_lexer": "ipython3",
      "version": "3.12.2"
    }
  },
  "nbformat": 4,
  "nbformat_minor": 0
}
